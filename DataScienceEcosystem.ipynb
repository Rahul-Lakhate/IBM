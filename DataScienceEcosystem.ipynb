{
 "cells": [
  {
   "cell_type": "markdown",
   "id": "f7ef8ef9-d90a-46a9-8467-6b0dfc74eda3",
   "metadata": {},
   "source": [
    "# Data Science Tools and Ecosystem"
   ]
  },
  {
   "cell_type": "markdown",
   "id": "8958821c-da60-44c6-af9e-15fc03eb0052",
   "metadata": {},
   "source": [
    "In this notebook, Data Science Tools and Ecosystem are summarized."
   ]
  },
  {
   "cell_type": "markdown",
   "id": "f0555c19-4cbe-40b5-9b34-725a73f7e26c",
   "metadata": {},
   "source": [
    "Some of the popular languages that Data Scientists use are:\n",
    "R\n",
    "Python\n",
    "Scipy\n",
    "Machine Learning\n",
    "R Studio"
   ]
  },
  {
   "cell_type": "code",
   "execution_count": null,
   "id": "148e2344-5a5b-4e38-be9a-596dd8a60f43",
   "metadata": {},
   "outputs": [],
   "source": [
    "Some of the commonly used libraries used by Data Scientists include:\n",
    "Pandas\n",
    "numpy\n",
    "stats\n",
    "matplotlib\n",
    "seaborn"
   ]
  },
  {
   "cell_type": "markdown",
   "id": "4e2fb4f6-0803-4e60-bc34-9ee6e954b74b",
   "metadata": {},
   "source": [
    "Data Science Tools\n",
    "| Tool             | Description                          |\n",
    "|------------------|--------------------------------------|\n",
    "| Jupyter Notebook | Interactive computing environment    |\n",
    "| RStudio          | Integrated development environment   |\n",
    "| Apache Hadoop    | Framework for distributed storage    |\n",
    "| Apache Spark     | Cluster-computing framework          |"
   ]
  },
  {
   "cell_type": "markdown",
   "id": "ed790309-29e7-4c5f-8175-4c9833cbb629",
   "metadata": {},
   "source": [
    "### Below are a few examples of evaluating arithmetic expressions in Python"
   ]
  },
  {
   "cell_type": "code",
   "execution_count": 5,
   "id": "98d152b3-7f0d-4277-a4e0-2c920db77454",
   "metadata": {},
   "outputs": [
    {
     "data": {
      "text/plain": [
       "17"
      ]
     },
     "execution_count": 5,
     "metadata": {},
     "output_type": "execute_result"
    }
   ],
   "source": [
    "(3*4)+5"
   ]
  },
  {
   "cell_type": "code",
   "execution_count": 6,
   "id": "ef736362-7323-43f1-babd-108bb4e8c8a6",
   "metadata": {},
   "outputs": [
    {
     "data": {
      "text/plain": [
       "3.3333333333333335"
      ]
     },
     "execution_count": 6,
     "metadata": {},
     "output_type": "execute_result"
    }
   ],
   "source": [
    "minutes = 200\n",
    "hours = minutes / 60\n",
    "hours"
   ]
  },
  {
   "cell_type": "markdown",
   "id": "be541412-bc8a-4a77-b2d9-b823cb39114a",
   "metadata": {},
   "source": [
    "## Objectives\n",
    "- Understand the Data Science ecosystem\n",
    "- Learn about key languages and libraries\n",
    "- Get familiar with popular data science tools\n",
    "- Practice arithmetic expressions in Python"
   ]
  },
  {
   "cell_type": "markdown",
   "id": "adc89d97-7ada-4650-a9fa-83bb2f75eec1",
   "metadata": {},
   "source": [
    "## Author\n",
    "Rahul Lakhate"
   ]
  }
 ],
 "metadata": {
  "kernelspec": {
   "display_name": "Python 3 (ipykernel)",
   "language": "python",
   "name": "python3"
  },
  "language_info": {
   "codemirror_mode": {
    "name": "ipython",
    "version": 3
   },
   "file_extension": ".py",
   "mimetype": "text/x-python",
   "name": "python",
   "nbconvert_exporter": "python",
   "pygments_lexer": "ipython3",
   "version": "3.11.7"
  }
 },
 "nbformat": 4,
 "nbformat_minor": 5
}
